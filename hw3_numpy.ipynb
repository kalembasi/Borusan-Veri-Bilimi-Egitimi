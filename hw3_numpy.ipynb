{
 "cells": [
  {
   "cell_type": "markdown",
   "source": [
    "1-Numpy kütüphanesini import edin."
   ],
   "metadata": {
    "collapsed": false
   }
  },
  {
   "cell_type": "code",
   "execution_count": 51,
   "outputs": [],
   "source": [
    "import numpy as np"
   ],
   "metadata": {
    "collapsed": false
   }
  },
  {
   "cell_type": "markdown",
   "source": [
    "2-1'den 5 e kadar (5 dahil) b isimli bir dizi oluşturun."
   ],
   "metadata": {
    "collapsed": false
   }
  },
  {
   "cell_type": "code",
   "execution_count": 52,
   "outputs": [
    {
     "name": "stdout",
     "output_type": "stream",
     "text": [
      "[0 1 2 3 4 5]\n"
     ]
    }
   ],
   "source": [
    "b = np.arange(6)\n",
    "print(b)"
   ],
   "metadata": {
    "collapsed": false
   }
  },
  {
   "cell_type": "markdown",
   "source": [
    "3- 20 adet 0'dan oluşan 4 x 5' lik dizi oluşturun."
   ],
   "metadata": {
    "collapsed": false
   }
  },
  {
   "cell_type": "code",
   "execution_count": 53,
   "outputs": [
    {
     "data": {
      "text/plain": "array([[0., 0., 0., 0., 0.],\n       [0., 0., 0., 0., 0.],\n       [0., 0., 0., 0., 0.],\n       [0., 0., 0., 0., 0.]])"
     },
     "execution_count": 53,
     "metadata": {},
     "output_type": "execute_result"
    }
   ],
   "source": [
    "np.zeros((4,5))"
   ],
   "metadata": {
    "collapsed": false
   }
  },
  {
   "cell_type": "markdown",
   "source": [
    "4- 15 adet 7 sayısından oluşan diziyi 3x5 olarak yazın."
   ],
   "metadata": {
    "collapsed": false
   }
  },
  {
   "cell_type": "code",
   "execution_count": 54,
   "outputs": [
    {
     "data": {
      "text/plain": "array([[7, 7, 7, 7, 7],\n       [7, 7, 7, 7, 7],\n       [7, 7, 7, 7, 7]])"
     },
     "execution_count": 54,
     "metadata": {},
     "output_type": "execute_result"
    }
   ],
   "source": [
    "np.full((3,5),7)"
   ],
   "metadata": {
    "collapsed": false
   }
  },
  {
   "cell_type": "markdown",
   "source": [
    "5- 10–70 e kadar 5 er artan sayıları yaz."
   ],
   "metadata": {
    "collapsed": false
   }
  },
  {
   "cell_type": "code",
   "execution_count": 55,
   "outputs": [
    {
     "data": {
      "text/plain": "array([10, 15, 20, 25, 30, 35, 40, 45, 50, 55, 60, 65, 70])"
     },
     "execution_count": 55,
     "metadata": {},
     "output_type": "execute_result"
    }
   ],
   "source": [
    "np.arange(10,71, 5)"
   ],
   "metadata": {
    "collapsed": false
   }
  },
  {
   "cell_type": "markdown",
   "source": [
    "6- 10–20 arasında 15 aynı uzaklıkta elemanı olan array oluşturun. (linspace metodunu kullanın.)"
   ],
   "metadata": {
    "collapsed": false
   }
  },
  {
   "cell_type": "code",
   "execution_count": 56,
   "outputs": [
    {
     "data": {
      "text/plain": "array([10.        , 10.71428571, 11.42857143, 12.14285714, 12.85714286,\n       13.57142857, 14.28571429, 15.        , 15.71428571, 16.42857143,\n       17.14285714, 17.85714286, 18.57142857, 19.28571429, 20.        ])"
     },
     "execution_count": 56,
     "metadata": {},
     "output_type": "execute_result"
    }
   ],
   "source": [
    "np.linspace(10,20,15)"
   ],
   "metadata": {
    "collapsed": false
   }
  },
  {
   "cell_type": "markdown",
   "source": [
    "7- Rastgele sayılardan oluşan diziyi 3x5 boyutunda yazdır."
   ],
   "metadata": {
    "collapsed": false
   }
  },
  {
   "cell_type": "code",
   "execution_count": 57,
   "outputs": [
    {
     "data": {
      "text/plain": "array([[39, 21, 10, 73, 54],\n       [ 2, 66, 57, 36, 79],\n       [98, 70, 58, 47, 68]])"
     },
     "execution_count": 57,
     "metadata": {},
     "output_type": "execute_result"
    }
   ],
   "source": [
    "np.random.randint(low=0, high=100, size=(3,5)) #integers"
   ],
   "metadata": {
    "collapsed": false
   }
  },
  {
   "cell_type": "markdown",
   "source": [
    "8- 5 elemanlı birim matris oluşturun. eye() metodu kullanın."
   ],
   "metadata": {
    "collapsed": false
   }
  },
  {
   "cell_type": "code",
   "execution_count": 58,
   "outputs": [
    {
     "data": {
      "text/plain": "array([[1., 0., 0., 0., 0.],\n       [0., 1., 0., 0., 0.],\n       [0., 0., 1., 0., 0.],\n       [0., 0., 0., 1., 0.],\n       [0., 0., 0., 0., 1.]])"
     },
     "execution_count": 58,
     "metadata": {},
     "output_type": "execute_result"
    }
   ],
   "source": [
    "np.eye(5)"
   ],
   "metadata": {
    "collapsed": false
   }
  },
  {
   "cell_type": "markdown",
   "source": [
    "9- 0'dan 24 e kadar array oluştur. Sonra reshape metodu ile 4x6 boyutu olarak yazın."
   ],
   "metadata": {
    "collapsed": false
   }
  },
  {
   "cell_type": "code",
   "execution_count": 59,
   "outputs": [
    {
     "data": {
      "text/plain": "array([[ 0,  1,  2,  3,  4,  5],\n       [ 6,  7,  8,  9, 10, 11],\n       [12, 13, 14, 15, 16, 17],\n       [18, 19, 20, 21, 22, 23]])"
     },
     "execution_count": 59,
     "metadata": {},
     "output_type": "execute_result"
    }
   ],
   "source": [
    "np.arange(0,24).reshape(4,6)"
   ],
   "metadata": {
    "collapsed": false
   }
  },
  {
   "cell_type": "markdown",
   "source": [
    "10- 0 ile 1 arasında rastgele 10 sayıdan oluşan bir array tanımlayın. Minimum ve maksimum değerleri bulun."
   ],
   "metadata": {
    "collapsed": false
   }
  },
  {
   "cell_type": "code",
   "execution_count": 60,
   "outputs": [
    {
     "name": "stdout",
     "output_type": "stream",
     "text": [
      "[0.30834864 0.5485968  0.60462225 0.93793296 0.44863754 0.23233783\n",
      " 0.67109714 0.27449201 0.406736   0.80335573] \n",
      "\n",
      "max:  0.9379329595436385 \n",
      "\n",
      "min:  0.2323378286767711\n"
     ]
    }
   ],
   "source": [
    "arr2 = np.random.uniform(low=0, high=1, size=10)\n",
    "print(arr2, \"\\n\")\n",
    "print(\"max: \", arr2.max(), \"\\n\") #max\n",
    "print(\"min: \", arr2.min()) #min"
   ],
   "metadata": {
    "collapsed": false
   }
  },
  {
   "cell_type": "markdown",
   "source": [
    "11- 36 sayıdan oluşan rastgele sayılar 6x6' lık array olarak yazdırın."
   ],
   "metadata": {
    "collapsed": false
   }
  },
  {
   "cell_type": "code",
   "execution_count": 61,
   "outputs": [
    {
     "name": "stdout",
     "output_type": "stream",
     "text": [
      "[[0.45194515 0.45307513 0.74869493 0.28045289 0.7954712  0.77435651]\n",
      " [0.75619356 0.57523554 0.98092527 0.07363925 0.64430824 0.20279833]\n",
      " [0.72147463 0.083534   0.12019112 0.97491804 0.47708982 0.04141029]\n",
      " [0.41053535 0.09619655 0.15208199 0.40027241 0.68323641 0.78844373]\n",
      " [0.55612043 0.4013695  0.82930282 0.54275168 0.45476353 0.03507585]\n",
      " [0.33348886 0.26909839 0.56822222 0.46142026 0.47665171 0.21356222]]\n"
     ]
    }
   ],
   "source": [
    "arr3 = np.random.rand(6,6)\n",
    "print(arr3)"
   ],
   "metadata": {
    "collapsed": false
   }
  },
  {
   "cell_type": "markdown",
   "source": [
    "12- 5.satırdaki elemanları gösteriniz."
   ],
   "metadata": {
    "collapsed": false
   }
  },
  {
   "cell_type": "code",
   "execution_count": 62,
   "outputs": [
    {
     "data": {
      "text/plain": "array([0.55612043, 0.4013695 , 0.82930282, 0.54275168, 0.45476353,\n       0.03507585])"
     },
     "execution_count": 62,
     "metadata": {},
     "output_type": "execute_result"
    }
   ],
   "source": [
    "arr3[4]"
   ],
   "metadata": {
    "collapsed": false
   }
  },
  {
   "cell_type": "markdown",
   "source": [
    "13- 6.satır ve 6.sutundaki elemanları gösteriniz."
   ],
   "metadata": {
    "collapsed": false
   }
  },
  {
   "cell_type": "code",
   "execution_count": 63,
   "outputs": [
    {
     "data": {
      "text/plain": "0.21356221596834035"
     },
     "execution_count": 63,
     "metadata": {},
     "output_type": "execute_result"
    }
   ],
   "source": [
    "arr3[5,5]"
   ],
   "metadata": {
    "collapsed": false
   }
  },
  {
   "cell_type": "markdown",
   "source": [
    "14-4.sutundaki tüm elemanları çekin."
   ],
   "metadata": {
    "collapsed": false
   }
  },
  {
   "cell_type": "code",
   "execution_count": 64,
   "outputs": [
    {
     "data": {
      "text/plain": "array([0.77435651, 0.20279833, 0.04141029, 0.78844373, 0.03507585,\n       0.21356222])"
     },
     "execution_count": 64,
     "metadata": {},
     "output_type": "execute_result"
    }
   ],
   "source": [
    "arr3[:,5]"
   ],
   "metadata": {
    "collapsed": false
   }
  },
  {
   "cell_type": "markdown",
   "source": [
    "15- For döngüsünü ve flat metodunu kullanarak satır satır elemanları yazdırınız."
   ],
   "metadata": {
    "collapsed": false
   }
  },
  {
   "cell_type": "code",
   "execution_count": 65,
   "outputs": [
    {
     "name": "stdout",
     "output_type": "stream",
     "text": [
      "[]\n",
      "[0.45194515]\n",
      "[0.45194515 0.45307513]\n",
      "[0.45194515 0.45307513 0.74869493]\n",
      "[0.45194515 0.45307513 0.74869493 0.28045289]\n",
      "[0.45194515 0.45307513 0.74869493 0.28045289 0.7954712 ]\n",
      "[0.45194515 0.45307513 0.74869493 0.28045289 0.7954712  0.77435651]\n",
      "[0.45194515 0.45307513 0.74869493 0.28045289 0.7954712  0.77435651\n",
      " 0.75619356]\n",
      "[0.45194515 0.45307513 0.74869493 0.28045289 0.7954712  0.77435651\n",
      " 0.75619356 0.57523554]\n",
      "[0.45194515 0.45307513 0.74869493 0.28045289 0.7954712  0.77435651\n",
      " 0.75619356 0.57523554 0.98092527]\n",
      "[0.45194515 0.45307513 0.74869493 0.28045289 0.7954712  0.77435651\n",
      " 0.75619356 0.57523554 0.98092527 0.07363925]\n",
      "[0.45194515 0.45307513 0.74869493 0.28045289 0.7954712  0.77435651\n",
      " 0.75619356 0.57523554 0.98092527 0.07363925 0.64430824]\n",
      "[0.45194515 0.45307513 0.74869493 0.28045289 0.7954712  0.77435651\n",
      " 0.75619356 0.57523554 0.98092527 0.07363925 0.64430824 0.20279833]\n",
      "[0.45194515 0.45307513 0.74869493 0.28045289 0.7954712  0.77435651\n",
      " 0.75619356 0.57523554 0.98092527 0.07363925 0.64430824 0.20279833\n",
      " 0.72147463]\n",
      "[0.45194515 0.45307513 0.74869493 0.28045289 0.7954712  0.77435651\n",
      " 0.75619356 0.57523554 0.98092527 0.07363925 0.64430824 0.20279833\n",
      " 0.72147463 0.083534  ]\n",
      "[0.45194515 0.45307513 0.74869493 0.28045289 0.7954712  0.77435651\n",
      " 0.75619356 0.57523554 0.98092527 0.07363925 0.64430824 0.20279833\n",
      " 0.72147463 0.083534   0.12019112]\n",
      "[0.45194515 0.45307513 0.74869493 0.28045289 0.7954712  0.77435651\n",
      " 0.75619356 0.57523554 0.98092527 0.07363925 0.64430824 0.20279833\n",
      " 0.72147463 0.083534   0.12019112 0.97491804]\n",
      "[0.45194515 0.45307513 0.74869493 0.28045289 0.7954712  0.77435651\n",
      " 0.75619356 0.57523554 0.98092527 0.07363925 0.64430824 0.20279833\n",
      " 0.72147463 0.083534   0.12019112 0.97491804 0.47708982]\n",
      "[0.45194515 0.45307513 0.74869493 0.28045289 0.7954712  0.77435651\n",
      " 0.75619356 0.57523554 0.98092527 0.07363925 0.64430824 0.20279833\n",
      " 0.72147463 0.083534   0.12019112 0.97491804 0.47708982 0.04141029]\n",
      "[0.45194515 0.45307513 0.74869493 0.28045289 0.7954712  0.77435651\n",
      " 0.75619356 0.57523554 0.98092527 0.07363925 0.64430824 0.20279833\n",
      " 0.72147463 0.083534   0.12019112 0.97491804 0.47708982 0.04141029\n",
      " 0.41053535]\n",
      "[0.45194515 0.45307513 0.74869493 0.28045289 0.7954712  0.77435651\n",
      " 0.75619356 0.57523554 0.98092527 0.07363925 0.64430824 0.20279833\n",
      " 0.72147463 0.083534   0.12019112 0.97491804 0.47708982 0.04141029\n",
      " 0.41053535 0.09619655]\n",
      "[0.45194515 0.45307513 0.74869493 0.28045289 0.7954712  0.77435651\n",
      " 0.75619356 0.57523554 0.98092527 0.07363925 0.64430824 0.20279833\n",
      " 0.72147463 0.083534   0.12019112 0.97491804 0.47708982 0.04141029\n",
      " 0.41053535 0.09619655 0.15208199]\n",
      "[0.45194515 0.45307513 0.74869493 0.28045289 0.7954712  0.77435651\n",
      " 0.75619356 0.57523554 0.98092527 0.07363925 0.64430824 0.20279833\n",
      " 0.72147463 0.083534   0.12019112 0.97491804 0.47708982 0.04141029\n",
      " 0.41053535 0.09619655 0.15208199 0.40027241]\n",
      "[0.45194515 0.45307513 0.74869493 0.28045289 0.7954712  0.77435651\n",
      " 0.75619356 0.57523554 0.98092527 0.07363925 0.64430824 0.20279833\n",
      " 0.72147463 0.083534   0.12019112 0.97491804 0.47708982 0.04141029\n",
      " 0.41053535 0.09619655 0.15208199 0.40027241 0.68323641]\n",
      "[0.45194515 0.45307513 0.74869493 0.28045289 0.7954712  0.77435651\n",
      " 0.75619356 0.57523554 0.98092527 0.07363925 0.64430824 0.20279833\n",
      " 0.72147463 0.083534   0.12019112 0.97491804 0.47708982 0.04141029\n",
      " 0.41053535 0.09619655 0.15208199 0.40027241 0.68323641 0.78844373]\n",
      "[0.45194515 0.45307513 0.74869493 0.28045289 0.7954712  0.77435651\n",
      " 0.75619356 0.57523554 0.98092527 0.07363925 0.64430824 0.20279833\n",
      " 0.72147463 0.083534   0.12019112 0.97491804 0.47708982 0.04141029\n",
      " 0.41053535 0.09619655 0.15208199 0.40027241 0.68323641 0.78844373\n",
      " 0.55612043]\n",
      "[0.45194515 0.45307513 0.74869493 0.28045289 0.7954712  0.77435651\n",
      " 0.75619356 0.57523554 0.98092527 0.07363925 0.64430824 0.20279833\n",
      " 0.72147463 0.083534   0.12019112 0.97491804 0.47708982 0.04141029\n",
      " 0.41053535 0.09619655 0.15208199 0.40027241 0.68323641 0.78844373\n",
      " 0.55612043 0.4013695 ]\n",
      "[0.45194515 0.45307513 0.74869493 0.28045289 0.7954712  0.77435651\n",
      " 0.75619356 0.57523554 0.98092527 0.07363925 0.64430824 0.20279833\n",
      " 0.72147463 0.083534   0.12019112 0.97491804 0.47708982 0.04141029\n",
      " 0.41053535 0.09619655 0.15208199 0.40027241 0.68323641 0.78844373\n",
      " 0.55612043 0.4013695  0.82930282]\n",
      "[0.45194515 0.45307513 0.74869493 0.28045289 0.7954712  0.77435651\n",
      " 0.75619356 0.57523554 0.98092527 0.07363925 0.64430824 0.20279833\n",
      " 0.72147463 0.083534   0.12019112 0.97491804 0.47708982 0.04141029\n",
      " 0.41053535 0.09619655 0.15208199 0.40027241 0.68323641 0.78844373\n",
      " 0.55612043 0.4013695  0.82930282 0.54275168]\n",
      "[0.45194515 0.45307513 0.74869493 0.28045289 0.7954712  0.77435651\n",
      " 0.75619356 0.57523554 0.98092527 0.07363925 0.64430824 0.20279833\n",
      " 0.72147463 0.083534   0.12019112 0.97491804 0.47708982 0.04141029\n",
      " 0.41053535 0.09619655 0.15208199 0.40027241 0.68323641 0.78844373\n",
      " 0.55612043 0.4013695  0.82930282 0.54275168 0.45476353]\n",
      "[0.45194515 0.45307513 0.74869493 0.28045289 0.7954712  0.77435651\n",
      " 0.75619356 0.57523554 0.98092527 0.07363925 0.64430824 0.20279833\n",
      " 0.72147463 0.083534   0.12019112 0.97491804 0.47708982 0.04141029\n",
      " 0.41053535 0.09619655 0.15208199 0.40027241 0.68323641 0.78844373\n",
      " 0.55612043 0.4013695  0.82930282 0.54275168 0.45476353 0.03507585]\n",
      "[0.45194515 0.45307513 0.74869493 0.28045289 0.7954712  0.77435651\n",
      " 0.75619356 0.57523554 0.98092527 0.07363925 0.64430824 0.20279833\n",
      " 0.72147463 0.083534   0.12019112 0.97491804 0.47708982 0.04141029\n",
      " 0.41053535 0.09619655 0.15208199 0.40027241 0.68323641 0.78844373\n",
      " 0.55612043 0.4013695  0.82930282 0.54275168 0.45476353 0.03507585\n",
      " 0.33348886]\n",
      "[0.45194515 0.45307513 0.74869493 0.28045289 0.7954712  0.77435651\n",
      " 0.75619356 0.57523554 0.98092527 0.07363925 0.64430824 0.20279833\n",
      " 0.72147463 0.083534   0.12019112 0.97491804 0.47708982 0.04141029\n",
      " 0.41053535 0.09619655 0.15208199 0.40027241 0.68323641 0.78844373\n",
      " 0.55612043 0.4013695  0.82930282 0.54275168 0.45476353 0.03507585\n",
      " 0.33348886 0.26909839]\n",
      "[0.45194515 0.45307513 0.74869493 0.28045289 0.7954712  0.77435651\n",
      " 0.75619356 0.57523554 0.98092527 0.07363925 0.64430824 0.20279833\n",
      " 0.72147463 0.083534   0.12019112 0.97491804 0.47708982 0.04141029\n",
      " 0.41053535 0.09619655 0.15208199 0.40027241 0.68323641 0.78844373\n",
      " 0.55612043 0.4013695  0.82930282 0.54275168 0.45476353 0.03507585\n",
      " 0.33348886 0.26909839 0.56822222]\n",
      "[0.45194515 0.45307513 0.74869493 0.28045289 0.7954712  0.77435651\n",
      " 0.75619356 0.57523554 0.98092527 0.07363925 0.64430824 0.20279833\n",
      " 0.72147463 0.083534   0.12019112 0.97491804 0.47708982 0.04141029\n",
      " 0.41053535 0.09619655 0.15208199 0.40027241 0.68323641 0.78844373\n",
      " 0.55612043 0.4013695  0.82930282 0.54275168 0.45476353 0.03507585\n",
      " 0.33348886 0.26909839 0.56822222 0.46142026]\n",
      "[0.45194515 0.45307513 0.74869493 0.28045289 0.7954712  0.77435651\n",
      " 0.75619356 0.57523554 0.98092527 0.07363925 0.64430824 0.20279833\n",
      " 0.72147463 0.083534   0.12019112 0.97491804 0.47708982 0.04141029\n",
      " 0.41053535 0.09619655 0.15208199 0.40027241 0.68323641 0.78844373\n",
      " 0.55612043 0.4013695  0.82930282 0.54275168 0.45476353 0.03507585\n",
      " 0.33348886 0.26909839 0.56822222 0.46142026 0.47665171]\n"
     ]
    }
   ],
   "source": [
    "for i in range(np.size(arr3)):\n",
    "    print(arr3.flat[0:i])"
   ],
   "metadata": {
    "collapsed": false
   }
  },
  {
   "cell_type": "markdown",
   "source": [
    "16- 0 ile 1 aralığında bir array oluştur. Bu array değerini 5 ile çarpın."
   ],
   "metadata": {
    "collapsed": false
   }
  },
  {
   "cell_type": "code",
   "execution_count": 66,
   "outputs": [
    {
     "name": "stdout",
     "output_type": "stream",
     "text": [
      "[[0.  0.1 0.2 0.3 0.4]\n",
      " [0.5 0.6 0.7 0.8 0.9]]\n",
      "[[0.  0.5 1.  1.5 2. ]\n",
      " [2.5 3.  3.5 4.  4.5]]\n"
     ]
    }
   ],
   "source": [
    "arr4 = np.arange(0,1, 0.1).reshape(2,5)\n",
    "print(arr4)\n",
    "arr4 *=5\n",
    "print(arr4)"
   ],
   "metadata": {
    "collapsed": false
   }
  },
  {
   "cell_type": "markdown",
   "source": [
    "17- Satırların toplam değeri nedir?"
   ],
   "metadata": {
    "collapsed": false
   }
  },
  {
   "cell_type": "code",
   "execution_count": 67,
   "outputs": [
    {
     "data": {
      "text/plain": "22.5"
     },
     "execution_count": 67,
     "metadata": {},
     "output_type": "execute_result"
    }
   ],
   "source": [
    "arr4.sum()"
   ],
   "metadata": {
    "collapsed": false
   }
  },
  {
   "cell_type": "markdown",
   "source": [
    "18-Satırların standart sapma değeri nedir?"
   ],
   "metadata": {
    "collapsed": false
   }
  },
  {
   "cell_type": "code",
   "execution_count": 68,
   "outputs": [
    {
     "data": {
      "text/plain": "1.4361406616345072"
     },
     "execution_count": 68,
     "metadata": {},
     "output_type": "execute_result"
    }
   ],
   "source": [
    "arr4.std()"
   ],
   "metadata": {
    "collapsed": false
   }
  },
  {
   "cell_type": "markdown",
   "source": [
    "19-Satırların varyans değeri nedir?"
   ],
   "metadata": {
    "collapsed": false
   }
  },
  {
   "cell_type": "code",
   "execution_count": 69,
   "outputs": [
    {
     "data": {
      "text/plain": "2.0625"
     },
     "execution_count": 69,
     "metadata": {},
     "output_type": "execute_result"
    }
   ],
   "source": [
    "arr4.var()"
   ],
   "metadata": {
    "collapsed": false
   }
  },
  {
   "cell_type": "markdown",
   "source": [
    "20- Satırların transpoz değeri nedir?"
   ],
   "metadata": {
    "collapsed": false
   }
  },
  {
   "cell_type": "code",
   "execution_count": 70,
   "outputs": [
    {
     "data": {
      "text/plain": "array([[0. , 2.5],\n       [0.5, 3. ],\n       [1. , 3.5],\n       [1.5, 4. ],\n       [2. , 4.5]])"
     },
     "execution_count": 70,
     "metadata": {},
     "output_type": "execute_result"
    }
   ],
   "source": [
    "arr4.transpose()"
   ],
   "metadata": {
    "collapsed": false
   }
  }
 ],
 "metadata": {
  "kernelspec": {
   "display_name": "Python 3",
   "language": "python",
   "name": "python3"
  },
  "language_info": {
   "codemirror_mode": {
    "name": "ipython",
    "version": 2
   },
   "file_extension": ".py",
   "mimetype": "text/x-python",
   "name": "python",
   "nbconvert_exporter": "python",
   "pygments_lexer": "ipython2",
   "version": "2.7.6"
  }
 },
 "nbformat": 4,
 "nbformat_minor": 0
}
