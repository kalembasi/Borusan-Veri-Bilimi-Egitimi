{
 "cells": [
  {
   "cell_type": "code",
   "execution_count": 1,
   "metadata": {
    "collapsed": true
   },
   "outputs": [],
   "source": [
    "# siteleri tuple'da depolar, değişmemesi gereken indexler içerir"
   ]
  },
  {
   "cell_type": "code",
   "execution_count": 3,
   "outputs": [
    {
     "name": "stdout",
     "output_type": "stream",
     "text": [
      "('https://www.borusancat.com/', 'https://transaytransfer.com/', 'http://borusaninsan.com/', 'https://thebclog.com/', 'https://borusancat.edcast.com/', 'https://transaytransfer.com/', 'http://seyahat.theborusans.com/tasks/list', 'https://processportal.borusancat.com/ProcessPortal', 'https://thebclog.com/tr/experiences', 'https://prod.borusancat.com/survey/?survey=8934ac10-8c60-405c-8398-a90c5ccedbc6')\n"
     ]
    }
   ],
   "source": [
    "sites = (\"https://www.borusancat.com/\",\n",
    "         \"https://transaytransfer.com/\",\n",
    "         \"http://borusaninsan.com/\",\n",
    "         \"https://thebclog.com/\",\n",
    "         \"https://borusancat.edcast.com/\",\n",
    "         \"https://transaytransfer.com/\",\n",
    "         \"http://seyahat.theborusans.com/tasks/list\",\n",
    "         \"https://processportal.borusancat.com/ProcessPortal\",\n",
    "         \"https://thebclog.com/tr/experiences\",\n",
    "         \"https://prod.borusancat.com/survey/?survey=8934ac10-8c60-405c-8398-a90c5ccedbc6\"\n",
    "         )\n",
    "\n",
    "print(sites)"
   ],
   "metadata": {
    "collapsed": false
   }
  },
  {
   "cell_type": "code",
   "execution_count": 4,
   "outputs": [],
   "source": [
    "# response kodları ile beraber siteleri depolamak için dictionary yaratır"
   ],
   "metadata": {
    "collapsed": false
   }
  },
  {
   "cell_type": "code",
   "execution_count": 5,
   "outputs": [
    {
     "name": "stdout",
     "output_type": "stream",
     "text": [
      "{'https://www.borusancat.com/': 0, 'https://transaytransfer.com/': 0, 'http://borusaninsan.com/': 0, 'https://thebclog.com/': 0, 'https://borusancat.edcast.com/': 0, 'http://seyahat.theborusans.com/tasks/list': 0, 'https://processportal.borusancat.com/ProcessPortal': 0, 'https://thebclog.com/tr/experiences': 0, 'https://prod.borusancat.com/survey/?survey=8934ac10-8c60-405c-8398-a90c5ccedbc6': 0}\n"
     ]
    }
   ],
   "source": [
    "sitesWithResponses = {}\n",
    "for i in sites:\n",
    "    sitesWithResponses[i] = 0 #inital olarak 0 atarh\n",
    "\n",
    "print(sitesWithResponses)"
   ],
   "metadata": {
    "collapsed": false
   }
  },
  {
   "cell_type": "code",
   "execution_count": 6,
   "outputs": [],
   "source": [
    "# sitelere istek atıp response kodlarını çekmiş gibi düşünmemiz için fonksiyon tanımlanır"
   ],
   "metadata": {
    "collapsed": false
   }
  },
  {
   "cell_type": "code",
   "execution_count": 7,
   "outputs": [],
   "source": [
    "import random\n",
    "\n",
    "def requestGenerator():\n",
    "    return random.choice([200, 401, 404])"
   ],
   "metadata": {
    "collapsed": false
   }
  },
  {
   "cell_type": "code",
   "execution_count": 8,
   "outputs": [],
   "source": [
    "# hata alan siteleri ekrana basar"
   ],
   "metadata": {
    "collapsed": false
   }
  },
  {
   "cell_type": "code",
   "execution_count": 9,
   "outputs": [
    {
     "name": "stdout",
     "output_type": "stream",
     "text": [
      "https://www.borusancat.com/ is unauthorized.\n",
      "https://transaytransfer.com/ is unauthorized.\n",
      "https://borusancat.edcast.com/ is not found.\n",
      "http://seyahat.theborusans.com/tasks/list is unauthorized.\n",
      "https://processportal.borusancat.com/ProcessPortal is not found.\n",
      "https://thebclog.com/tr/experiences is not found.\n",
      "https://prod.borusancat.com/survey/?survey=8934ac10-8c60-405c-8398-a90c5ccedbc6 is unauthorized.\n"
     ]
    }
   ],
   "source": [
    "for i in sitesWithResponses:\n",
    "    sitesWithResponses[i] = requestGenerator() #responları dictionary'ye key olarak ekler\n",
    "    if sitesWithResponses[i] == 401:\n",
    "        print(f\"{i} is unauthorized.\")\n",
    "    elif sitesWithResponses[i] == 404:\n",
    "        print(f\"{i} is not found.\")"
   ],
   "metadata": {
    "collapsed": false
   }
  },
  {
   "cell_type": "code",
   "execution_count": null,
   "outputs": [],
   "source": [],
   "metadata": {
    "collapsed": false
   }
  }
 ],
 "metadata": {
  "kernelspec": {
   "display_name": "Python 3",
   "language": "python",
   "name": "python3"
  },
  "language_info": {
   "codemirror_mode": {
    "name": "ipython",
    "version": 2
   },
   "file_extension": ".py",
   "mimetype": "text/x-python",
   "name": "python",
   "nbconvert_exporter": "python",
   "pygments_lexer": "ipython2",
   "version": "2.7.6"
  }
 },
 "nbformat": 4,
 "nbformat_minor": 0
}
